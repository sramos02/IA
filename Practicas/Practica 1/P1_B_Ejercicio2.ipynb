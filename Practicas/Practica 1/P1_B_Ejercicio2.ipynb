{
 "cells": [
  {
   "cell_type": "markdown",
   "metadata": {},
   "source": [
    "Nombres:\n",
    "-David del Cerro Domínguez\n",
    "-Sergio Ramos Mesa"
   ]
  },
  {
   "cell_type": "markdown",
   "metadata": {},
   "source": [
    "Ejercicio 2\n",
    "\n",
    " En el siguiente puzle infantil se pide rellenar los espacios en blanco con  números  del  1  al  9 de  tal  \n",
    " modo que la ecuación sea  correcta  siguiendo  el  orden de las operaciones. Los números no pueden repetirse.\n",
    " Es decir, en cada uno  de  los  9  huecos  en  blancos  deberá  ir  un  número  sin  repetirse.\n",
    " Según declaraciones   del   profesor   Tran Phuong existen   362.880   combinaciones   posibles para colocar los\n",
    " 9 dígitos en los 9 espacios en blanco, pero sólo unas pocas son correctas"
   ]
  },
  {
   "cell_type": "markdown",
   "metadata": {},
   "source": [
    "Para resolver este problema utilizamos la búsqueda en profundidad, ya que necesitamos colocar los números en todos los huecos para obtener una solución, por lo tanto nos resulta más eficaz este método. La complejidad está directamente relacionada con el factor de ramificación, que en este caso va disminuyendo según avanzamos en profundidad. "
   ]
  },
  {
   "cell_type": "code",
   "execution_count": 27,
   "metadata": {},
   "outputs": [],
   "source": [
    "class Problem(object):\n",
    "\n",
    "    \"\"\"The abstract class for a formal problem. You should subclass\n",
    "    this and implement the methods actions and result, and possibly\n",
    "    __init__, goal_test, and path_cost. Then you will create instances\n",
    "    of your subclass and solve them with the various search functions.\"\"\"\n",
    "\n",
    "    def __init__(self, initial, goal=None):\n",
    "        \"\"\"The constructor specifies the initial state, and possibly a goal\n",
    "        state, if there is a unique goal. Your subclass's constructor can add\n",
    "        other arguments.\"\"\"\n",
    "        self.initial = initial\n",
    "        self.goal = goal\n",
    "\n",
    "    def actions(self, state):\n",
    "        \"\"\"Return the actions that can be executed in the given\n",
    "        state. The result would typically be a list, but if there are\n",
    "        many actions, consider yielding them one at a time in an\n",
    "        iterator, rather than building them all at once.\"\"\"\n",
    "        raise NotImplementedError\n",
    "\n",
    "    def result(self, state, action):\n",
    "        \"\"\"Return the state that results from executing the given\n",
    "        action in the given state. The action must be one of\n",
    "        self.actions(state).\"\"\"\n",
    "        raise NotImplementedError\n",
    "\n",
    "    def goal_test(self, state):\n",
    "        \"\"\"Return True if the state is a goal. The default method compares the\n",
    "        state to self.goal or checks for state in self.goal if it is a\n",
    "        list, as specified in the constructor. Override this method if\n",
    "        checking against a single self.goal is not enough.\"\"\"\n",
    "        if isinstance(self.goal, list):\n",
    "            return is_in(state, self.goal)\n",
    "        else:\n",
    "            return state == self.goal\n",
    "\n",
    "    def path_cost(self, c, state1, action, state2):\n",
    "        \"\"\"Return the cost of a solution path that arrives at state2 from\n",
    "        state1 via action, assuming cost c to get up to state1. If the problem\n",
    "        is such that the path doesn't matter, this function will only look at\n",
    "        state2.  If the path does matter, it will consider c and maybe state1\n",
    "        and action. The default method costs 1 for every step in the path.\"\"\"\n",
    "        return c + 1\n",
    "\n",
    "    def value(self, state):\n",
    "        \"\"\"For optimization problems, each state has a value.  Hill-climbing\n",
    "        and related algorithms try to maximize this value.\"\"\"\n",
    "        raise NotImplementedError\n",
    "\n",
    "    def coste_de_aplicar_accion(self, estado, accion):\n",
    "        \"\"\"Hemos incluido está función que devuelve el coste de un único operador (aplicar accion a estado). Por defecto, este\n",
    "        coste es 1. Reimplementar si el problema define otro coste \"\"\" \n",
    "        return 1"
   ]
  },
  {
   "cell_type": "code",
   "execution_count": 57,
   "metadata": {},
   "outputs": [],
   "source": [
    "class Puzzle(Problem):\n",
    "    operations = ()\n",
    "    def __init__(self, initial, operations, goal=None):\n",
    "        \"\"\"The constructor specifies the initial state, and possibly a goal\n",
    "        state, if there is a unique goal. Your subclass's constructor can add\n",
    "        other arguments.\"\"\"\n",
    "        self.operations = operations\n",
    "        self.initial = initial\n",
    "        self.goal = goal\n",
    "            \n",
    "    def actions(self,estado):\n",
    "        accs = list()\n",
    "        digsFaltan = estado[1]\n",
    "        datos = estado[0]\n",
    "        if 0 in datos:\n",
    "            pos = datos.index(0)\n",
    "\n",
    "            if pos > 0 and self.operations[pos - 1] == \":\":\n",
    "                i = 0\n",
    "                while i < len(digsFaltan):\n",
    "                    if(estado[2] % digsFaltan[i] == 0):\n",
    "                        accs.append(digsFaltan[i])\n",
    "                    i = i + 1\n",
    "            else: #En caso de división, solo cogeremos de los digitos que faltan aquellos que son divisores del resultado.\n",
    "                i = 0\n",
    "                while i < len(digsFaltan):\n",
    "                        accs.append(digsFaltan[i])\n",
    "                        i = i + 1\n",
    "        \n",
    "        return accs\n",
    "\n",
    "    def result(self,estado,accion):\n",
    "        #Transformamos nuestros datos a list para así operar con ellos con mayor facilidad\n",
    "        digs = list(estado[1]) \n",
    "        digs.remove(accion)  \n",
    "        nuevoEstado1 = tuple(digs)\n",
    "        datos = list(estado[0])\n",
    "        pos = estado[0].index(0)\n",
    "        datos[pos] = accion\n",
    "        nuevoEstado0 = tuple(datos)\n",
    "        if(estado[0].index(0) == 0): #Si el dato a procesar es el primero, el resultado es igual al dato\n",
    "            resul = accion\n",
    "        else:     \n",
    "            #Añadimos a resul el numero que acabamos de añadir\n",
    "                if(self.operations[estado[0].index(0) - 1] == \"+\"):\n",
    "                    resul = estado[2] + accion\n",
    "                if(self.operations[estado[0].index(0) - 1] == \"-\"):\n",
    "                    resul = estado[2] - accion\n",
    "                if(self.operations[estado[0].index(0) - 1] == \"x\"):\n",
    "                    resul = estado[2] * accion\n",
    "                if(self.operations[estado[0].index(0) - 1] == \":\"):\n",
    "                    resul = estado[2] // accion\n",
    "        \n",
    "         #Comprobamos que el numero siguiente si es un dato del problema, se incluya\n",
    "        if(pos + 1 < len(datos) and datos[pos + 1] > 9):\n",
    "            if(self.operations[pos] == \"+\"):\n",
    "                resul = resul + datos[pos + 1]\n",
    "            if(self.operations[pos] == \"-\"):\n",
    "                resul = resul - datos[pos + 1]\n",
    "            if(self.operations[pos] == \"x\"):\n",
    "                resul = resul * datos[pos + 1]\n",
    "            if(self.operations[pos] == \":\"):\n",
    "                resul = resul // datos[pos + 1]\n",
    "\n",
    "        return (nuevoEstado0,nuevoEstado1,resul)\n",
    "        \n",
    "    \n",
    "        \n",
    "    def goal_test(self,estado):\n",
    "        return (self.goal == estado[2])"
   ]
  },
  {
   "cell_type": "code",
   "execution_count": 6,
   "metadata": {},
   "outputs": [],
   "source": [
    "from search import *"
   ]
  },
  {
   "cell_type": "code",
   "execution_count": 58,
   "metadata": {},
   "outputs": [
    {
     "data": {
      "text/plain": [
       "[9, 7, 2, 8, 4, 3, 6, 1, 5]"
      ]
     },
     "execution_count": 58,
     "metadata": {},
     "output_type": "execute_result"
    }
   ],
   "source": [
    "#Creamos el estado inicial, siendo 0 los huecos, la segunda componente los digitos que faltan, es decir todos.\n",
    "estado_inicial = ((0,13,0,0,0,12,0,0,11,0,0,0,10),(1,2,3,4,5,6,7,8,9),0) \n",
    "depth_first_tree_search(Puzzle(estado_inicial,(\"+\",\"x\",\":\",\"+\",\"+\",\"x\",\"-\",\"-\",\"+\",\"x\",\":\",\"-\"),66)).solution()"
   ]
  }
 ],
 "metadata": {
  "kernelspec": {
   "display_name": "Python 3",
   "language": "python",
   "name": "python3"
  },
  "language_info": {
   "codemirror_mode": {
    "name": "ipython",
    "version": 3
   },
   "file_extension": ".py",
   "mimetype": "text/x-python",
   "name": "python",
   "nbconvert_exporter": "python",
   "pygments_lexer": "ipython3",
   "version": "3.8.3"
  }
 },
 "nbformat": 4,
 "nbformat_minor": 4
}
