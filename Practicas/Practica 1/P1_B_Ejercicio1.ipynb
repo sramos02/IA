{
 "cells": [
  {
   "cell_type": "markdown",
   "metadata": {},
   "source": [
    "# Practica 1B\n",
    "Sergio Ramos Mesa\\\n",
    "David del Cerro Domínguez"
   ]
  },
  {
   "cell_type": "markdown",
   "metadata": {},
   "source": [
    "### Ejercicio 1\n",
    "\n",
    "Un grupo de 5 personas quiere cruzar un viejo y estrecho puente. Es una noche cerrada y se necesita llevar una linterna para cruzar. El grupo solo dispone de una linterna, a la que le quedan 5 minutos de batería.\n",
    "\n",
    "1. Cada persona tarda en cruzar 10, 30, 60, 80 y 120 segundos, respectivamente.\n",
    "2. El puente solo resiste un máximo de 2 personas cruzando a la vez, y cuando cruzan dos personas juntas, caminan a la velocidad del más lento.\n",
    "3. No se puede lanzar la linterna de un extremo a otro del puente, así que cada vez que crucen dos personas, alguien tiene que volver a cruzar hacia atrás con la linterna a buscar a los compañeros que falten, y así hasta que hayan cruzado todos"
   ]
  },
  {
   "cell_type": "code",
   "execution_count": 1,
   "metadata": {},
   "outputs": [],
   "source": [
    " class Problem(object):\n",
    "\n",
    "    \"\"\"The abstract class for a formal problem. You should subclass\n",
    "    this and implement the methods actions and result, and possibly\n",
    "    __init__, goal_test, and path_cost. Then you will create instances\n",
    "    of your subclass and solve them with the various search functions.\"\"\"\n",
    "\n",
    "    def __init__(self, initial, goal=None):\n",
    "        \"\"\"The constructor specifies the initial state, and possibly a goal\n",
    "        state, if there is a unique goal. Your subclass's constructor can add\n",
    "        other arguments.\"\"\"\n",
    "        self.initial = initial\n",
    "        self.goal = goal\n",
    "\n",
    "    def actions(self, state):\n",
    "        \"\"\"Return the actions that can be executed in the given\n",
    "        state. The result would typically be a list, but if there are\n",
    "        many actions, consider yielding them one at a time in an\n",
    "        iterator, rather than building them all at once.\"\"\"\n",
    "        raise NotImplementedError\n",
    "\n",
    "    def result(self, state, action):\n",
    "        \"\"\"Return the state that results from executing the given\n",
    "        action in the given state. The action must be one of\n",
    "        self.actions(state).\"\"\"\n",
    "        raise NotImplementedError\n",
    "\n",
    "    def goal_test(self, state):\n",
    "        \"\"\"Return True if the state is a goal. The default method compares the\n",
    "        state to self.goal or checks for state in self.goal if it is a\n",
    "        list, as specified in the constructor. Override this method if\n",
    "        checking against a single self.goal is not enough.\"\"\"\n",
    "        if isinstance(self.goal, list):\n",
    "            return is_in(state, self.goal)\n",
    "        else:\n",
    "            return state == self.goal\n",
    "\n",
    "    def path_cost(self, c, state1, action, state2):\n",
    "        \"\"\"Return the cost of a solution path that arrives at state2 from\n",
    "        state1 via action, assuming cost c to get up to state1. If the problem\n",
    "        is such that the path doesn't matter, this function will only look at\n",
    "        state2.  If the path does matter, it will consider c and maybe state1\n",
    "        and action. The default method costs 1 for every step in the path.\"\"\"\n",
    "        return c + 1\n",
    "\n",
    "    def value(self, state):\n",
    "        \"\"\"For optimization problems, each state has a value.  Hill-climbing\n",
    "        and related algorithms try to maximize this value.\"\"\"\n",
    "        raise NotImplementedError\n",
    "\n",
    "    def coste_de_aplicar_accion(self, estado, accion):\n",
    "        \"\"\"Hemos incluido está función que devuelve el coste de un único operador (aplicar accion a estado). Por defecto, este\n",
    "        coste es 1. Reimplementar si el problema define otro coste \"\"\" \n",
    "        return 1"
   ]
  },
  {
   "cell_type": "code",
   "execution_count": 440,
   "metadata": {},
   "outputs": [],
   "source": [
    "class elPuente(Problem):\n",
    "    \n",
    "    def __init__(self, initial, goal = None):\n",
    "        '''Inicializacion de nuestro problema.'''\n",
    "        Problem.__init__(self, (0, initial, (), 0), goal)\n",
    "        self._actions = [(10,\"10\"),(30,\"30\"),(60,\"60\"),(80,\"80\"),(120,\"120\"),(30,\"10\",\"30\"),(60,\"10\",\"60\"),(80,\"10\",\"80\"),(120,\"10\",\"120\"),(60,\"30\",\"60\"),(80,\"30\",\"80\"),(120,\"30\",\"120\"),(80,\"60\",\"80\"),(120,\"60\",\"120\"),(120,\"80\",\"120\")]\n",
    "        \n",
    "    def actions(self, state):\n",
    "        '''Devuelve las acciones validas para un estado.'''        \n",
    "        t = 0\n",
    "        for i in state[1]: t+= i\n",
    "        for i in state[2]: t+= i    \n",
    "      \n",
    "        ret = list()\n",
    "        #Recorre todas las acciones posibles\n",
    "        for act in self._actions:\n",
    "            i = 1  \n",
    "            moves = list()\n",
    "            actTime = 0\n",
    "\n",
    "            #Controla que de tiempo a cruzar la barca\n",
    "            while(i in range(len(act))):\n",
    "                if(int(act[i]) > actTime): actTime = int(act[i])\n",
    "                moves.append(int(act[i]))\n",
    "                i+=1\n",
    "                \n",
    "            #Si supera el tiempo no hay posibilidad de seguir\n",
    "            if((state[0] + actTime) < t):\n",
    "                insert = True\n",
    "                #Comprueba que las dos personas estén en el mismo lado del río\n",
    "                for j in range(len(moves)):\n",
    "                    if ((int(act[j]) in state[1] and state[3] == 0) or (int(act[j]) in state[2] and state[3] == 1)): \n",
    "                        insert = insert and True\n",
    "                    else: insert = insert and False \n",
    "                    j+=1\n",
    "                #Si cumple todas las condiciones se da como transición valida\n",
    "                if (insert): ret.append(act) \n",
    "        return ret\n",
    "    \n",
    "    def result(self, state, act):\n",
    "        '''Devuelve el estado resultante de aplicar una accion a un estado determinado.'''\n",
    "        left = list(state[1])\n",
    "        right = list(state[2])\n",
    "        t = state[0] + act[0]\n",
    "\n",
    "        i = 1        \n",
    "        #Para todo el estado actual ejecuta el camino de ida y el de vuelta\n",
    "        while(i in range(len(act))):\n",
    "            aux = int(act[i])\n",
    "            if state[3] == 0: #Ida\n",
    "                left.remove(aux)\n",
    "                right.append(aux)\n",
    "                \n",
    "            else: #Vuelta\n",
    "                right.remove(aux)\n",
    "                left.append(aux)\n",
    "            i+=1\n",
    "        turno = (state[3] + 1) % 2\n",
    "        return (t, tuple(left), tuple(right), turno)\n",
    "    \n",
    "    def goal_test(self,estado):\n",
    "        '''Devuelve si el estado actual es solución'''\n",
    "        return (estado[0] <= 300) and (len(estado[1]) == 0) and (estado[3] == 1)"
   ]
  },
  {
   "cell_type": "code",
   "execution_count": 441,
   "metadata": {},
   "outputs": [
    {
     "data": {
      "text/plain": [
       "(0, (10, 30, 60, 80, 120), (), 0)"
      ]
     },
     "execution_count": 441,
     "metadata": {},
     "output_type": "execute_result"
    }
   ],
   "source": [
    "puente.initial"
   ]
  },
  {
   "cell_type": "code",
   "execution_count": 442,
   "metadata": {},
   "outputs": [],
   "source": [
    "puente = elPuente((10,30,60,80,120))"
   ]
  },
  {
   "cell_type": "code",
   "execution_count": 443,
   "metadata": {},
   "outputs": [
    {
     "data": {
      "text/plain": [
       "[(10, '10'),\n",
       " (30, '30'),\n",
       " (60, '60'),\n",
       " (80, '80'),\n",
       " (120, '120'),\n",
       " (30, '10', '30'),\n",
       " (60, '10', '60'),\n",
       " (80, '10', '80'),\n",
       " (120, '10', '120'),\n",
       " (60, '30', '60'),\n",
       " (80, '30', '80'),\n",
       " (120, '30', '120'),\n",
       " (80, '60', '80'),\n",
       " (120, '60', '120'),\n",
       " (120, '80', '120')]"
      ]
     },
     "execution_count": 443,
     "metadata": {},
     "output_type": "execute_result"
    }
   ],
   "source": [
    "puente.actions(puente.initial)"
   ]
  },
  {
   "cell_type": "code",
   "execution_count": 444,
   "metadata": {},
   "outputs": [
    {
     "data": {
      "text/plain": [
       "(120, (30, 60, 80), (10, 120), 1)"
      ]
     },
     "execution_count": 444,
     "metadata": {},
     "output_type": "execute_result"
    }
   ],
   "source": [
    "puente.result(puente.initial, (120,\"10\",\"120\"))"
   ]
  },
  {
   "cell_type": "code",
   "execution_count": 445,
   "metadata": {},
   "outputs": [
    {
     "data": {
      "text/plain": [
       "False"
      ]
     },
     "execution_count": 445,
     "metadata": {},
     "output_type": "execute_result"
    }
   ],
   "source": [
    "puente.goal_test(puente.initial)"
   ]
  },
  {
   "cell_type": "code",
   "execution_count": 451,
   "metadata": {},
   "outputs": [
    {
     "data": {
      "text/plain": [
       "True"
      ]
     },
     "execution_count": 451,
     "metadata": {},
     "output_type": "execute_result"
    }
   ],
   "source": [
    "puente.goal_test((300, (), (10,30,60,80,120), 1))"
   ]
  },
  {
   "cell_type": "code",
   "execution_count": 447,
   "metadata": {},
   "outputs": [
    {
     "ename": "TypeError",
     "evalue": "actions() takes 2 positional arguments but 5 were given",
     "output_type": "error",
     "traceback": [
      "\u001b[1;31m---------------------------------------------------------------------------\u001b[0m",
      "\u001b[1;31mTypeError\u001b[0m                                 Traceback (most recent call last)",
      "\u001b[1;32m<ipython-input-447-efd5351e6c9e>\u001b[0m in \u001b[0;36m<module>\u001b[1;34m\u001b[0m\n\u001b[1;32m----> 1\u001b[1;33m \u001b[0mpuente\u001b[0m\u001b[1;33m.\u001b[0m\u001b[0mactions\u001b[0m\u001b[1;33m(\u001b[0m\u001b[1;36m120\u001b[0m\u001b[1;33m,\u001b[0m\u001b[1;33m(\u001b[0m\u001b[1;36m30\u001b[0m\u001b[1;33m,\u001b[0m\u001b[1;36m60\u001b[0m\u001b[1;33m,\u001b[0m\u001b[1;36m80\u001b[0m\u001b[1;33m)\u001b[0m\u001b[1;33m,\u001b[0m\u001b[1;33m(\u001b[0m\u001b[1;36m10.120\u001b[0m\u001b[1;33m)\u001b[0m\u001b[1;33m,\u001b[0m\u001b[1;36m1\u001b[0m\u001b[1;33m)\u001b[0m\u001b[1;33m\u001b[0m\u001b[1;33m\u001b[0m\u001b[0m\n\u001b[0m",
      "\u001b[1;31mTypeError\u001b[0m: actions() takes 2 positional arguments but 5 were given"
     ]
    }
   ],
   "source": [
    "puente.actions(120,(30,60,80),(10.120),1)"
   ]
  },
  {
   "cell_type": "code",
   "execution_count": 448,
   "metadata": {},
   "outputs": [],
   "source": [
    "from search import *\n",
    "from search import breadth_first_tree_search, depth_first_tree_search, depth_first_graph_search, breadth_first_graph_search"
   ]
  },
  {
   "cell_type": "markdown",
   "metadata": {},
   "source": [
    "Para la ejecución se ha optado por la busqueda primero en anchura ya que la más eficiente dentro de las busquedas que no requieren de heurística. El tiempo de ejecución es ligeramente superior a otros algoritmos estudiados en clase y, aún así, son resultados muy buenos. Como podemos ver, se han adjuntado tanto los tiempo como las ejecuciones de todos los algorítmos comprobados."
   ]
  },
  {
   "cell_type": "code",
   "execution_count": 462,
   "metadata": {},
   "outputs": [
    {
     "data": {
      "text/plain": [
       "[(30, '10', '30'),\n",
       " (10, '10'),\n",
       " (60, '10', '60'),\n",
       " (10, '10'),\n",
       " (120, '80', '120'),\n",
       " (30, '30'),\n",
       " (30, '10', '30')]"
      ]
     },
     "execution_count": 462,
     "metadata": {},
     "output_type": "execute_result"
    }
   ],
   "source": [
    "breadth_first_tree_search(elPuente((10,30,60,80,120))).solution()"
   ]
  },
  {
   "cell_type": "markdown",
   "metadata": {},
   "source": [
    "568 ms ± 2.42 ms per loop (mean ± std. dev. of 7 runs, 1 loop each)"
   ]
  },
  {
   "cell_type": "code",
   "execution_count": 459,
   "metadata": {},
   "outputs": [
    {
     "data": {
      "text/plain": [
       "[(60, '10', '60'),\n",
       " (10, '10'),\n",
       " (30, '10', '30'),\n",
       " (30, '30'),\n",
       " (120, '80', '120'),\n",
       " (10, '10'),\n",
       " (30, '10', '30')]"
      ]
     },
     "execution_count": 459,
     "metadata": {},
     "output_type": "execute_result"
    }
   ],
   "source": [
    "depth_first_tree_search(elPuente((10,30,60,80,120))).solution()"
   ]
  },
  {
   "cell_type": "markdown",
   "metadata": {},
   "source": [
    "998 ms ± 6.44 ms per loop (mean ± std. dev. of 7 runs, 1 loop each)\n"
   ]
  },
  {
   "cell_type": "code",
   "execution_count": 461,
   "metadata": {},
   "outputs": [
    {
     "data": {
      "text/plain": [
       "[(30, '10', '30'),\n",
       " (10, '10'),\n",
       " (60, '10', '60'),\n",
       " (10, '10'),\n",
       " (120, '80', '120'),\n",
       " (30, '30'),\n",
       " (30, '10', '30')]"
      ]
     },
     "execution_count": 461,
     "metadata": {},
     "output_type": "execute_result"
    }
   ],
   "source": [
    "uniform_cost_search(elPuente((10,30,60,80,120))).solution()"
   ]
  },
  {
   "cell_type": "markdown",
   "metadata": {},
   "source": [
    "2.92 s ± 26.3 ms per loop (mean ± std. dev. of 7 runs, 1 loop each)"
   ]
  },
  {
   "cell_type": "code",
   "execution_count": 463,
   "metadata": {},
   "outputs": [],
   "source": [
    "# Hacemos una definición ampliada de la clase Problem de AIMA que nos va a permitir experimentar con distintos\n",
    "# estados iniciales, algoritmos y heurísticas, para resolver el 8-puzzle. \n",
    "# The solvability of a configuration can be checked by calculating the Inversion Permutation. If the total Inversion Permutation is even then the initial configuration is solvable else the initial configuration is not solvable which means that only 9!/2 initial states lead to a solution.\n",
    "# Añadimos en la clase ampliada la capacidad para contar el número de nodos analizados durante la\n",
    "# búsqueda:\n",
    "\n",
    "\n",
    "class Problema_con_Analizados(Problem):\n",
    "\n",
    "    \"\"\"Es un problema que se comporta exactamente igual que el que recibe al\n",
    "       inicializarse, y además incorpora unos atributos nuevos para almacenar el\n",
    "       número de nodos analizados durante la búsqueda. De esta manera, no\n",
    "       tenemos que modificar el código del algoritmo de búsqueda.\"\"\" \n",
    "         \n",
    "    def __init__(self, problem):\n",
    "        self.initial = problem.initial\n",
    "        self.problem = problem\n",
    "        self.analizados  = 0\n",
    "        self.goal = problem.goal\n",
    "\n",
    "    def actions(self, estado):\n",
    "        return self.problem.actions(estado)\n",
    "\n",
    "    def result(self, estado, accion):\n",
    "        return self.problem.result(estado, accion)\n",
    "\n",
    "    def goal_test(self, estado):\n",
    "        self.analizados += 1\n",
    "        return self.problem.goal_test(estado)\n",
    "\n",
    "    def coste_de_aplicar_accion(self, estado, accion):\n",
    "        return self.problem.coste_de_aplicar_accion(estado,accion)\n",
    "    \n",
    "    def check_solvability(self, state):\n",
    "        \"\"\" Checks if the given state is solvable \"\"\"\n",
    "\n",
    "        inversion = 0\n",
    "        for i in range(len(state)):\n",
    "            for j in range(i+1, len(state)):\n",
    "                if (state[i] > state[j]) and state[i] != 0 and state[j]!= 0:\n",
    "                    inversion += 1\n",
    "        \n",
    "        return inversion % 2 == 0   "
   ]
  },
  {
   "cell_type": "code",
   "execution_count": 467,
   "metadata": {},
   "outputs": [],
   "source": [
    "def resuelve_puente_puzzle(estado_inicial, algoritmo, h=None):\n",
    "    p = Problema_con_Analizados(elPuente(estado_inicial))\n",
    "    if p.check_solvability(estado_inicial):\n",
    "        if h: \n",
    "            sol = algoritmo(p,h).solution()\n",
    "        else: \n",
    "            sol = algoritmo(p).solution()\n",
    "        print(\"Solución: {0}\".format(sol))\n",
    "        print(\"Algoritmo: {0}\".format(algoritmo.__name__))\n",
    "        if h: \n",
    "            print(\"Heurística: {0}\".format(h.__name__))\n",
    "        else:\n",
    "            pass\n",
    "        print(\"Longitud de la solución: {0}. Nodos analizados: {1}\".format(len(sol),p.analizados))\n",
    "    else: \n",
    "        print(\"Este problema no tiene solucion. \")\n"
   ]
  },
  {
   "cell_type": "code",
   "execution_count": 468,
   "metadata": {},
   "outputs": [
    {
     "name": "stdout",
     "output_type": "stream",
     "text": [
      "Solución: [(30, '10', '30'), (10, '10'), (60, '10', '60'), (10, '10'), (120, '80', '120'), (30, '30'), (30, '10', '30')]\n",
      "Algoritmo: breadth_first_tree_search\n",
      "Longitud de la solución: 7. Nodos analizados: 13117\n"
     ]
    }
   ],
   "source": [
    "E1 = (10,30,60,80,120)\n",
    "resuelve_puente_puzzle(E1,breadth_first_tree_search)"
   ]
  }
 ],
 "metadata": {
  "kernelspec": {
   "display_name": "Python 3",
   "language": "python",
   "name": "python3"
  },
  "language_info": {
   "codemirror_mode": {
    "name": "ipython",
    "version": 3
   },
   "file_extension": ".py",
   "mimetype": "text/x-python",
   "name": "python",
   "nbconvert_exporter": "python",
   "pygments_lexer": "ipython3",
   "version": "3.8.3"
  }
 },
 "nbformat": 4,
 "nbformat_minor": 4
}
