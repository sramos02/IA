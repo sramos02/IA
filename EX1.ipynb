{
 "cells": [
  {
   "cell_type": "markdown",
   "metadata": {},
   "source": [
    "## Resuelve los siguientes ejercicios en este archivo y entregalo en el campus al final de la clase."
   ]
  },
  {
   "cell_type": "markdown",
   "metadata": {},
   "source": [
    "**_Ejercicio 1_**. Escribe un programa que calcule el volumen de un cono a partir del radio de la base y su altura. Usa la siguiente fórmula:\n",
    "volumen = pi * radio * radio * altura / 3\n",
    "Solicita los valores de radio y altura al usuario.  El valor aproximado de pi es 3.14159.\n",
    "\n"
   ]
  },
  {
   "cell_type": "code",
   "execution_count": 1,
   "metadata": {},
   "outputs": [
    {
     "name": "stdout",
     "output_type": "stream",
     "text": [
      "Dime el radio:5\n",
      "Dime la altura:5\n"
     ]
    },
    {
     "data": {
      "text/plain": [
       "130.89958333333334"
      ]
     },
     "execution_count": 1,
     "metadata": {},
     "output_type": "execute_result"
    }
   ],
   "source": [
    "# Escribe aquí la solución del ejercicio 1.\n",
    "pi = 3.14159\n",
    "radio = int(input('Dime el radio:'))\n",
    "altura = int(input('Dime la altura:'))\n",
    "pi * radio * radio * altura / 3"
   ]
  },
  {
   "cell_type": "markdown",
   "metadata": {},
   "source": [
    "**_Ejercicio 2_**.  Escribe un programa que clasifique los elementos de una lista en positivos y negativos. Los elementos positivos deben añadirse a una lista y los negativos a otra. Si la lista original contiene ceros, se deben ignorar."
   ]
  },
  {
   "cell_type": "code",
   "execution_count": null,
   "metadata": {},
   "outputs": [],
   "source": [
    "# Escribe aquí la solución del ejercicio 2.\n",
    "\n",
    "#lista_original = [7, 6, -9, 234, -4, 0, -7]\n",
    "#Positivos: [7, 6, 234]\n",
    "#Negativos: [-9, -4, -7]\n",
    "\n",
    "positivos = []\n",
    "negativos = []\n",
    "#----------------------------------------\n",
    "#SIN ENTRADA VARIABLE\n",
    "\n",
    "lista = [7,6,-9,234,-4,0,-7]\n",
    "length = len(lista)\n",
    "for i in range(length):\n",
    "    if lista[i] >= 0:\n",
    "        positivos.append(lista[i])\n",
    "    else:\n",
    "        negativos.append(lista[i])\n",
    "print(positivos)\n",
    "print(negativos)\n",
    "\n",
    "#----------------------------------------\n",
    "#CON ENTRADA VARIABLE\n",
    "long = int(input('Longitud de la lista:'))\n",
    "print('Introduzca los valores:')\n",
    "for i in range(long):\n",
    "    nuevo = int(input(''))\n",
    "    if nuevo >= 0:\n",
    "        positivos.append(nuevo)\n",
    "    else:\n",
    "        negativos.append(nuevo)\n",
    "\n",
    "print(positivos)\n",
    "print(negativos)\n",
    "\n"
   ]
  },
  {
   "cell_type": "markdown",
   "metadata": {},
   "source": [
    "**_Ejercicio 3_**.  Escribir una función cuadrados(l) que recibiendo una secuencia l de números, devuelve la lista de los cuadrados de esos números, en el mismo orden. Por ejemplo:\n",
    "\tcuadrados([4,1,5.2,3,8])\n",
    "\t[16, 1, 27.040000000000003, 9, 64]\n",
    "\tHacer dos versiones: una usando un bucle explícito, y la otra mediante definición de listas por comprensión."
   ]
  },
  {
   "cell_type": "code",
   "execution_count": null,
   "metadata": {},
   "outputs": [],
   "source": [
    "# Escribe aquí la solución del ejercicio 3.\n",
    "# >>> cuadrados([4,1,5.2,3,8])\n",
    "# [16, 1, 27.040000000000003, 9, 64]\n",
    "lista = [4,1,5.2,3,8]\n",
    "cuadrados = []\n",
    "length = len(lista)\n",
    "\n",
    "\n",
    "#bucle explícito\n",
    "for i in range(length):\n",
    "    cuadrados.append(lista[i] * lista[i]) #Esto es para que no muestre el decimal todo el rato\n",
    "print(cuadrados)\n",
    "\n",
    "# definición de listas por comprensión.\n",
    "cuadrados = [n * n for n in lista]\n",
    "print(cuadrados)"
   ]
  },
  {
   "cell_type": "code",
   "execution_count": null,
   "metadata": {},
   "outputs": [],
   "source": []
  }
 ],
 "metadata": {
  "kernelspec": {
   "display_name": "Python 3",
   "language": "python",
   "name": "python3"
  },
  "language_info": {
   "codemirror_mode": {
    "name": "ipython",
    "version": 3
   },
   "file_extension": ".py",
   "mimetype": "text/x-python",
   "name": "python",
   "nbconvert_exporter": "python",
   "pygments_lexer": "ipython3",
   "version": "3.8.3"
  }
 },
 "nbformat": 4,
 "nbformat_minor": 2
}
